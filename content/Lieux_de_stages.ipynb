{
  "cells": [
    {
      "cell_type": "code",
      "execution_count": null,
      "metadata": {
        "trusted": true
      },
      "outputs": [],
      "source": [
        "# import piplite\n",
        "# await piplite.install([\"ipywidgets\"])\n",
        "# await piplite.install([\"ipyleaflet\"])"
      ]
    },
    {
      "cell_type": "code",
      "execution_count": 2,
      "metadata": {
        "trusted": true
      },
      "outputs": [],
      "source": [
        "from ipywidgets import *\n",
        "from IPython.display import IFrame, YouTubeVideo\n",
        "from IPython.display import display\n",
        "import subprocess, sys\n",
        "import webbrowser\n",
        "from ipywidgets import HTML\n",
        "import base64\n",
        "import csv ## https://docs.python.org/fr/3.6/library/csv.html \n",
        "import os ## Pour utiliser la methode ci-dessous Get Current Worked Directory pour lire la page Web crée dans le dossier courant.\n",
        "Lieu = os.getcwd()  ## methode Get Current Worked Directory pour lire la page Web crée dans le dossier courant.\n",
        "###\n",
        "import os\n",
        "import subprocess, sys\n",
        "from time import gmtime, strftime\n",
        "from datetime import datetime\n",
        "from pytz import timezone\n",
        "#################################################\n",
        "def Recup_Donnees(titre_csv):\n",
        "    \"\"\" Cette fonction initiale et essentielle permet de construire\n",
        "        une liste de tuples contenant toutes les informations du \n",
        "        tableau par lignes. \"\"\"\n",
        "    Donnees=[]  ## liste de tuples pour récupérer toutes les données du fichier csv\n",
        "    Ligne_Donnees=[]  ## sous liste pour créer la liste des tuples de Donnees\n",
        "    with open(titre_csv, \"r\", encoding=\"utf-8\") as texte:  ## Ouverture du csv en mode utf 8 pour encodage des caractères français\n",
        "        Les_lignes = csv.reader(texte, delimiter=';') ## lecture de chaque ligne du fichier csv\n",
        "        for ligne in Les_lignes:  ## bouclage sur chaque ligne des lignes\n",
        "            for element in ligne:  ## Récupération de chaque élément de chaque ligne\n",
        "                Ligne_Donnees.append(element)  ## création d'1 tuple avec tous les éléments d'1 même ligne\n",
        "            Ligne_Donnees=tuple(Ligne_Donnees)  ## assurance qu'il s'agit bien d'un tuple ..?\n",
        "            Donnees.append(Ligne_Donnees)  ## Ajout du tuple créé à la liste de tuple Données\n",
        "            Ligne_Donnees=[]  ## Réinitialisation d'1 futur 'tuple' vide pour boucler sur la ligne suivant du tableau\n",
        "    longueur_Donnees=len(Donnees)  ## Détermination de la longueurs des Données\n",
        "    return Donnees,longueur_Donnees\n",
        "# Donnees,longueur_Donnees=Recup_Donnees(\"https://github.com/dfialaire/Test3_Voici/main/content/Entreprises_Complet2.csv\")\n",
        "# Donnees,longueur_Donnees=Recup_Donnees(\"https://github.com/dfialaire/Test3_Voici/blob/main/content/Entreprises_Complet2.csv\")\n",
        "# Donnees,longueur_Donnees=Recup_Donnees(\"https://dfialaire.github.io/Test3_Voici/blob/main/content/Entreprises_Complet2.csv\")\n",
        "# Donnees,longueur_Donnees=Recup_Donnees(\"https://dfialaire.github.io/Test3_Voici/main/content/Entreprises_Complet2.csv\")\n",
        "# Donnees,longueur_Donnees=Recup_Donnees(\"https://github.com/dfialaire/Test3_Voici/tree/main/content/Entreprises_Complet2.csv\")\n",
        "# Donnees,longueur_Donnees=Recup_Donnees(\"../content/Entreprises_Complet2.csv\")\n",
        "# Donnees,longueur_Donnees=Recup_Donnees(\"files/Entreprises_Complet2.csv\")\n",
        "# Donnees,longueur_Donnees=Recup_Donnees(\"../../../files/Entreprises_Complet2.csv\")\n",
        "# Donnees,longueur_Donnees=Recup_Donnees(\"../../files/Entreprises_Complet2.csv\")\n",
        "# Donnees,longueur_Donnees=Recup_Donnees(\"../files/Entreprises_Complet2.csv\")\n",
        "# Donnees,longueur_Donnees=Recup_Donnees(\"../../voici/render/Entreprises_Complet2.csv\")\n",
        "# Donnees,longueur_Donnees=Recup_Donnees(\"./Entreprises_Complet2.csv\")\n",
        "# Donnees,longueur_Donnees=Recup_Donnees(\".\\/Entreprises_Complet2.csv\")\n",
        "Donnees,longueur_Donnees=Recup_Donnees(\"/files/Entreprises_Complet2.csv\")\n",
        "Nb_entreprise=1\n",
        "for ligne in range(0,longueur_Donnees):\n",
        "    tupl=Donnees[ligne]\n",
        "    li=list(tupl)\n",
        "    result_Nom_entreprise=li[45] ##yes\n",
        "    if result_Nom_entreprise != \"\":\n",
        "        Nb_entreprise += 1"
      ]
    },
    {
      "cell_type": "code",
      "execution_count": 3,
      "metadata": {
        "trusted": true
      },
      "outputs": [],
      "source": [
        "sel = []\n",
        "sel_html = HTML()\n",
        "sel_html.value = \"\"\n",
        "def select_entreprises_fonc(change):\n",
        "    global selection\n",
        "    sel=change['new']\n",
        "    sel=list(sel)\n",
        "    selection = sel\n",
        "     ###############\n",
        "    new_val = \"\"\n",
        "    for az in range(0,len(sel)):\n",
        "        new_val = new_val+ \"<br>\" + str(sel[az])\n",
        "    sel_html.value = new_val\n",
        "    ##############\n",
        "    print(\"sel_html =\",sel_html)\n",
        "    return selection, sel , sel_html"
      ]
    },
    {
      "cell_type": "code",
      "execution_count": 4,
      "metadata": {
        "trusted": true
      },
      "outputs": [
        {
          "data": {
            "application/vnd.jupyter.widget-view+json": {
              "model_id": "4b24ae90ffbb443ca27b7a43a02dd762",
              "version_major": 2,
              "version_minor": 0
            },
            "text/plain": [
              "Output(layout=Layout(border_bottom='1px solid black', border_left='1px solid black', border_right='1px solid b…"
            ]
          },
          "metadata": {},
          "output_type": "display_data"
        }
      ],
      "source": [
        "def stop_video(_):\n",
        "    out.layout.display = \"none\"\n",
        "    Mode_w.value=\"---\"\n",
        "btn_exit_video = Button(description=\"Enlever la vidéo\",tooltip=\"Cliquer pour enlever la vidéo\",button_style='primary')\n",
        "btn_exit_video.on_click(stop_video)\n",
        "############\n",
        "vid=YouTubeVideo( '357IqgMQ04c')#'eWzY2nGfkXk')\n",
        "out = widgets.Output(layout={'border': '1px solid black'})\n",
        "display(out)\n",
        "with out:\n",
        "    display(vid)\n",
        "    display(btn_exit_video)\n",
        "out.layout.display = \"none\"  #.layout.visibility = 'hidden'\n",
        "#####\n",
        "from IPython.display import IFrame"
      ]
    },
    {
      "cell_type": "code",
      "execution_count": 5,
      "metadata": {
        "trusted": true
      },
      "outputs": [],
      "source": [
        "def stop_infos(_):\n",
        "    out_infos.layout.display = \"none\"\n",
        "    Mode_w.value=\"---\"\n",
        "btn_exit_infos = Button(description=\"Enlever les informations récoltées\",tooltip=\"Cliquer pour enlever les informations récoltées\",button_style='primary')\n",
        "btn_exit_infos.on_click(stop_infos)\n",
        "############\n",
        "out_infos = widgets.Output(layout={'border': '1px solid black'})\n",
        "# display(out_infos)\n",
        "with out_infos:\n",
        "    display(sel_html)\n",
        "    display(btn_exit_infos)\n",
        "out_infos.layout.display = \"none\"  #.layout.visibility = 'hidden'\n",
        "from IPython.display import IFrame"
      ]
    },
    {
      "cell_type": "code",
      "execution_count": 6,
      "metadata": {
        "trusted": true
      },
      "outputs": [],
      "source": [
        "from ipyleaflet import (\n",
        "    Map,\n",
        "    Marker, MarkerCluster,LayersControl,\n",
        "    TileLayer, ImageOverlay,\n",
        "    Polyline, Polygon, Rectangle, Circle, CircleMarker,\n",
        "    Popup,\n",
        "    GeoJSON,\n",
        "    DrawControl,\n",
        "    basemaps, FullScreenControl,\n",
        "    SearchControl, AwesomeIcon, Icon, ScaleControl\n",
        ")\n",
        "from ipywidgets import HTML"
      ]
    },
    {
      "cell_type": "code",
      "execution_count": 7,
      "metadata": {
        "trusted": true
      },
      "outputs": [],
      "source": [
        "List_Nom_Entrprise = []\n",
        "for ligne in range(1,Nb_entreprise+3):\n",
        "    tupl=Donnees[ligne]\n",
        "    li=list(tupl)\n",
        "    result_Nom=li[2]\n",
        "    List_Nom_Entrprise.append(result_Nom)\n",
        "List_Nom_Entrprise.sort()\n",
        "\n",
        "select_entreprises = widgets.SelectMultiple(\n",
        "    options=List_Nom_Entrprise ,\n",
        "    #value=['Oranges'],\n",
        "    rows=5,\n",
        "\n",
        "    disabled=False,\n",
        "    layout={'width': 'max-content'}\n",
        ")\n",
        "select_entreprises.observe(select_entreprises_fonc,names='value')\n",
        "# display(select_entreprises)\n",
        "#     description='Entreprises',"
      ]
    },
    {
      "cell_type": "code",
      "execution_count": 8,
      "metadata": {
        "trusted": true
      },
      "outputs": [],
      "source": [
        "Selecti = VBox([widgets.Label(value='1) Choisissez, ci-dessous, vos entreprises (Ctrl pour plusieurs).'),select_entreprises])"
      ]
    },
    {
      "cell_type": "code",
      "execution_count": 9,
      "metadata": {
        "trusted": true
      },
      "outputs": [],
      "source": [
        "def Create_pdf(_):\n",
        "    global selection\n",
        "    print(\"apres btn pdf, selection =\",selection)\n",
        "    infos = []\n",
        "    Long_selection = len(selection)\n",
        "    for select in range (Long_selection):\n",
        "        for ligne in range(1,Nb_entreprise+3): # 19):\n",
        "            tupl=Donnees[ligne]\n",
        "            li=list(tupl)\n",
        "            result=li[2] \n",
        "            if selection[select] == result:               \n",
        "                infos.append(str(li[2])) \n",
        "                infos.append(str(li[0]))\n",
        "                infos.append(str(li[1]))\n",
        "                infos.append(str(li[40])) \n",
        "                infos.append(str(li[41])) \n",
        "                infos.append(str(li[42])) \n",
        "                infos.append(\"--> Tel : \"+str(li[43])) \n",
        "                infos.append(\"--> Mail : \"+str(li[51])) \n",
        "                infos.append(\"--> Lien : \"+str(li[44])) \n",
        "                infos.append(\"**\")\n",
        "    Story = \"\"\n",
        "    ###\n",
        "    fmt = \"%Y-%m-%d %H:%M\" \n",
        "    now_utc = datetime.now(timezone('UTC'))\n",
        "    formatted_time = now_utc.astimezone(timezone('Europe/Berlin'))    \n",
        "    ###\n",
        "    new_formatted_time=\"\"\n",
        "    long_string=len(str(formatted_time))\n",
        "    b=str(formatted_time)\n",
        "    for a in range(16):\n",
        "        new_formatted_time=new_formatted_time+b[a]    \n",
        "    ####\n",
        "    Story = Story + \"Informations sur les lieux de stages sélectionnés à la date de : \"+ new_formatted_time\n",
        "    Story = Story + \"<br>----------------------------------------------------------------------------------------------\"\n",
        "    Story = Story + \"<br>\"\n",
        "    for part in infos:\n",
        "        ptext = '%s' % part.strip()\n",
        "        if ptext == \"**\":\n",
        "            Story = Story + ptext + \"<br><br>\"\n",
        "        else:\n",
        "            Story= Story + ptext + \"<br>\" \n",
        "    sel_html.value = Story"
      ]
    },
    {
      "cell_type": "code",
      "execution_count": 10,
      "metadata": {
        "trusted": true
      },
      "outputs": [],
      "source": [
        "#######################################\n",
        "btn_pdf = Button(icon=\"file\",button_style='danger') # cogs  # angle-left # file-pdf-o # spinner\n",
        "btn_pdf.layout.width=\"30px\"\n",
        "btn_pdf.on_click( Create_pdf)\n",
        "# display(btn_pdf)\n",
        "#################"
      ]
    },
    {
      "cell_type": "code",
      "execution_count": 11,
      "metadata": {
        "trusted": true
      },
      "outputs": [],
      "source": [
        "def Vid_fonc(_):\n",
        "    out.layout.display = \"block\"\n",
        "#####################\n",
        "Vid_w = widgets.ToggleButton(\n",
        "    value=False,\n",
        "    description=' Démo',\n",
        "    disabled=False,\n",
        "    button_style='info', # 'success', 'info', 'warning', 'danger' or ''\n",
        "    tooltip=\"Cliquer pour voir la vidéo\",\n",
        "    icon='video' # (FontAwesome names without the `fa-` prefix)\n",
        ")\n",
        "Vid_w.observe(Vid_fonc,names='value')\n",
        "#####################\n",
        "# out.layout.display = \"block\""
      ]
    },
    {
      "cell_type": "code",
      "execution_count": 12,
      "metadata": {
        "trusted": true
      },
      "outputs": [],
      "source": [
        "def infos_fonc(_):\n",
        "    out_infos.layout.display = \"block\"\n",
        "#####################\n",
        "yep = Button(icon=\"eye\",button_style='danger',tooltip=\"Cliquer pour voir les infos\") # cogs  # angle-left # file-pdf-o # spinner\n",
        "yep.layout.width=\"30px\"\n",
        "yep.on_click(infos_fonc)"
      ]
    },
    {
      "cell_type": "code",
      "execution_count": 13,
      "metadata": {
        "trusted": true
      },
      "outputs": [],
      "source": [
        "for a in range(1,Nb_entreprise+2): # 19):\n",
        "    tuplee=Donnees[a]\n",
        "    lib=list(tuplee)\n",
        "    if lib[0]==\"Lycée\":\n",
        "        ligne=a\n",
        "tupl=Donnees[ligne]\n",
        "li=list(tupl)\n",
        "Nom_lycee=li[2]\n",
        "#################################\n",
        "Nb=\"L'établissement '\"+str(Nom_lycee)+\"' propose \"+str(Nb_entreprise-2)+\" adresses de lieux de stages :\"\n",
        "Nb2 = widgets.HTML(value= '<style>p{word-wrap: break-word}</style> <p><i>'+ Nb +' </i></p>')\n",
        "Nb3=VBox([Nb2,Vid_w])\n",
        "# Vid_w\n",
        "Nb3.layout.max_width='200px'\n",
        "Nb3.layout.border = '1px solid black'"
      ]
    },
    {
      "cell_type": "code",
      "execution_count": 14,
      "metadata": {
        "trusted": true
      },
      "outputs": [],
      "source": [
        "#################################\n",
        "Tex2=\"Créez votre sélection d'informations des lieux de stages :\"\n",
        "Texto2 = widgets.HTML(value= '<style>p{word-wrap: break-word}</style> <p><u><b>'+ Tex2 +' </b></u></p>')\n",
        "\n",
        "Tex3=\"2) Créer visuel --> \"\n",
        "Texto3 = widgets.HTML(value= '<style>p{word-wrap: break-word}</style> <p>'+ Tex3 +' </p>')\n",
        "Btn_CrPDF = HBox([Texto3,btn_pdf])\n",
        "\n",
        "Tex4=\"3) Présenter visuel --> \"\n",
        "Texto4 = widgets.HTML(value= '<style>p{word-wrap: break-word}</style> <p>'+ Tex4 +' </p>')\n",
        "Btn_OuvrPDF = HBox([Texto4,yep])\n",
        "\n",
        "Btn = VBox([Btn_CrPDF,Btn_OuvrPDF])\n",
        "Boite = HBox([Selecti, Btn])\n",
        "\n",
        "Texte_w = VBox([Texto2,Boite]) # Texto1a,Texto1b,Texto1c, \n",
        "\n",
        "Texte_w.layout.max_width='640px'\n",
        "Texte_w.layout.border = '1px solid black'\n",
        "#################################"
      ]
    },
    {
      "cell_type": "code",
      "execution_count": 15,
      "metadata": {
        "trusted": true
      },
      "outputs": [],
      "source": [
        "file = open(\"Lib2.png\", \"rb\")\n",
        "image = file.read()\n",
        "im_lycee = widgets.Image(\n",
        "    value=image,\n",
        "    format='png',\n",
        "    width=200,\n",
        "    height=200,\n",
        ")"
      ]
    },
    {
      "cell_type": "code",
      "execution_count": 16,
      "metadata": {
        "trusted": true
      },
      "outputs": [],
      "source": [
        "file = open(\"titre2.png\", \"rb\")\n",
        "image = file.read()\n",
        "im_titre = widgets.Image(\n",
        "    value=image,\n",
        "    format='png',\n",
        "    width=400,\n",
        "    height=50,\n",
        ")\n",
        "im_titre\n",
        "Box_im_titre=Box([im_titre])\n",
        "Box_im_titre.layout.border = '1px solid black'\n",
        "# Box_im_titre"
      ]
    },
    {
      "cell_type": "code",
      "execution_count": 17,
      "metadata": {
        "trusted": true
      },
      "outputs": [],
      "source": [
        "Menus = HBox([im_lycee,Nb3,Texte_w], layout=Layout(max_width='100%',display='inline-flex',flex_flow='row wrap'))\n",
        "# display(Menus)"
      ]
    },
    {
      "cell_type": "code",
      "execution_count": 18,
      "metadata": {
        "editable": false,
        "tags": [],
        "trusted": true
      },
      "outputs": [
        {
          "data": {
            "application/vnd.jupyter.widget-view+json": {
              "model_id": "7f86733316204c9d8fe5a2fa6c39cde4",
              "version_major": 2,
              "version_minor": 0
            },
            "text/plain": [
              "Output(layout=Layout(border_bottom='1px solid black', border_left='1px solid black', border_right='1px solid b…"
            ]
          },
          "metadata": {},
          "output_type": "display_data"
        },
        {
          "data": {
            "application/vnd.jupyter.widget-view+json": {
              "model_id": "1669495c810c4e98b10141e9f9be0647",
              "version_major": 2,
              "version_minor": 0
            },
            "text/plain": [
              "Box(children=(Image(value=b'\\x89PNG\\r\\n\\x1a\\n\\x00\\x00\\x00\\rIHDR\\x00\\x00\\x02`\\x00\\x00\\x00\\x95\\x08\\x02\\x00\\x00\\x…"
            ]
          },
          "metadata": {},
          "output_type": "display_data"
        },
        {
          "data": {
            "application/vnd.jupyter.widget-view+json": {
              "model_id": "98f641ac5f9b4e02b14dc11961d33d1b",
              "version_major": 2,
              "version_minor": 0
            },
            "text/plain": [
              "HBox(children=(Image(value=b'\\x89PNG\\r\\n\\x1a\\n\\x00\\x00\\x00\\rIHDR\\x00\\x00\\x02\\x84\\x00\\x00\\x01\\xb8\\x08\\x02\\x00\\x…"
            ]
          },
          "metadata": {},
          "output_type": "display_data"
        },
        {
          "data": {
            "application/vnd.jupyter.widget-view+json": {
              "model_id": "531c6b13ddc14dc5867a8281dbe1889c",
              "version_major": 2,
              "version_minor": 0
            },
            "text/plain": [
              "Map(center=['49.25138133197745', ' 4.027558236365021'], controls=(ZoomControl(options=['position', 'zoom_in_te…"
            ]
          },
          "execution_count": 18,
          "metadata": {},
          "output_type": "execute_result"
        }
      ],
      "source": [
        "from ipyleaflet import (\n",
        "    Map, basemaps, basemap_to_tiles,\n",
        "    Circle, Marker, Rectangle, LayerGroup, LayersControl,\n",
        "    AwesomeIcon, Popup, ScaleControl, FullScreenControl,\n",
        "    SearchControl\n",
        ")\n",
        "from ipywidgets import HTML\n",
        "###################################\n",
        "names = []\n",
        "##################################\n",
        "######## Récup des coordonnées du lycée du fichier excel sinon Libergier ######\n",
        "faire = 1\n",
        "for ligne in range(1,Nb_entreprise+3):\n",
        "    tupl=Donnees[ligne]\n",
        "    li=list(tupl)\n",
        "    resulto=li[0] ##yes\n",
        "    if resulto ==\"Lycée\":\n",
        "        result=li[45]\n",
        "        if result !=\"\":\n",
        "            result=result.split(\",\")\n",
        "            latitude=result[0]\n",
        "            longitude=result[1]\n",
        "            cent = [latitude, longitude]\n",
        "\n",
        "            faire = 0\n",
        "if faire==1:\n",
        "    print(\"Manque les coordonnées à votre lycée.\")\n",
        "    cent = [49.25112, 4.0271] #drop.value#\n",
        "###############################################\n",
        "zoom = 20\n",
        "m = Map(center=cent, zoom=zoom)\n",
        "m.add_control(FullScreenControl())\n",
        "marker = Marker(icon=AwesomeIcon(name=\"check\", marker_color='green', icon_color='darkgreen'))\n",
        "\n",
        "m.add_control(SearchControl(\n",
        "  position=\"topleft\",\n",
        "  url='https://nominatim.openstreetmap.org/search?format=json&q={s}',\n",
        "  zoom=15,\n",
        "  marker=marker\n",
        "))\n",
        "\n",
        "m.interact(zoom=(5,20,1))\n",
        "###############################################################\n",
        "\"\"\" Création de la liste (names) des différents domaines d'entreprise\"\"\"\n",
        "for ligne in range(1,Nb_entreprise+3):\n",
        "    faire = 1\n",
        "    tupl=Donnees[ligne]\n",
        "    li=list(tupl)\n",
        "    result=li[45] ##yes\n",
        "    if result !=\"\":\n",
        "        long_names=len(names)\n",
        "        for i in range(long_names):\n",
        "            if names[i]==li[0]:\n",
        "                faire=0\n",
        "        if faire==1:\n",
        "            names.append(li[0])\n",
        "###########################################################\n",
        "## Début Modif 2022 N°1 ##\n",
        "Liste_Entreprises_Annees_retenues = [  [\"\",\"\",\"\",\"\",\"\",\"\" ] for i in range(Nb_entreprise+3)  ] ## limitte années\n",
        "\"\"\" Ajout à la liste (names) des 5 dernières années Colonne D du tableau \"\"\"\n",
        "now_utc = datetime.now(timezone('UTC'))\n",
        "formatted_time = now_utc.astimezone(timezone('Europe/Berlin'))    \n",
        "Annee_en_cours=\"\"\n",
        "long_string=len(str(formatted_time))\n",
        "b=str(formatted_time)\n",
        "for a in range(4):\n",
        "    Annee_en_cours=Annee_en_cours+b[a]\n",
        "for ligne in range(1,Nb_entreprise+3):\n",
        "    faire = 1\n",
        "    tupl=Donnees[ligne]\n",
        "    li=list(tupl)\n",
        "    result=li[3] ## colonne des années\n",
        "    ## Début module repere Annees ##\n",
        "    Nb_digit_annee = 0\n",
        "    Annee_retenue = \"\"\n",
        "    Liste_Annees_retenues = []\n",
        "    Chiffre_ok = False\n",
        "    List_Numeros = ['0','1','2','3','4','5','6','7','8','9']\n",
        "    Longueur_Chain = len(result)\n",
        "    for position in range(Longueur_Chain):\n",
        "        Chiffre_ok = False\n",
        "        Caractere = result[position]\n",
        "        for j in range(len(List_Numeros)):\n",
        "            Numero_dans_List_Numeros = List_Numeros[j]\n",
        "            if Caractere == Numero_dans_List_Numeros:\n",
        "                Chiffre_ok = True\n",
        "                Nb_digit_annee = Nb_digit_annee +1\n",
        "                if Nb_digit_annee == 4:\n",
        "                    Nb_digit_annee = 0\n",
        "                    Annee_retenue = Annee_retenue + Caractere\n",
        "                    if Annee_retenue in Liste_Annees_retenues:\n",
        "                        rien = 1\n",
        "                    else:\n",
        "                        Liste_Annees_retenues.append(Annee_retenue)\n",
        "                    Annee_retenue = \"\"\n",
        "                    Chiffre_ok = False\n",
        "                else:\n",
        "                    Annee_retenue = Annee_retenue + Caractere\n",
        "        if Chiffre_ok == False:\n",
        "            Nb_digit_annee = 0\n",
        "            Annee_retenue = \"\"\n",
        "    if Liste_Annees_retenues == []:\n",
        "        Liste_Annees_retenues = [\"\"]\n",
        "        Liste_Annees_retenues.append(Annee_retenue)\n",
        "    Liste_Annees_retenues = Liste_Annees_retenues[:6] ## limitte années\n",
        "    for Index_annee in range(len(Liste_Annees_retenues)):\n",
        "        annee = Liste_Annees_retenues[Index_annee]\n",
        "        if annee != \"\":\n",
        "            if int(annee) > int(Annee_en_cours) or int(annee) < (int(Annee_en_cours)-4): ## limitte controle\n",
        "                rien = 1\n",
        "                Liste_Entreprises_Annees_retenues[ligne][Index_annee]='0'\n",
        "            else:\n",
        "                Liste_Entreprises_Annees_retenues[ligne][Index_annee] = Liste_Annees_retenues[0+Index_annee]  \n",
        "                if result !=\"\":\n",
        "                    long_names=len(names)\n",
        "                    for i in range(long_names):\n",
        "                        if names[i]==Liste_Annees_retenues[Index_annee]:\n",
        "                            faire=0\n",
        "                    if faire==1:\n",
        "                        names.append(Liste_Annees_retenues[Index_annee])\n",
        "## Fin Modif 2022 N°1 ##\n",
        "\"\"\"Création des noms de liste de domaine nommées markers_domain\"\"\"\n",
        "noms_domaine = []\n",
        "long_names=len(names)\n",
        "for name in range(long_names):\n",
        "    nom=\"markers_\"+names[name]\n",
        "    noms_domaine.append(nom)\n",
        "dico_noms_domaine = {n: [] for n in noms_domaine}\n",
        "#############################################################\n",
        "\"\"\"Création des noms de liste de couches nommées couches_domain\"\"\"\n",
        "couches_domain = []\n",
        "long_names=len(names)\n",
        "for name in range(long_names):\n",
        "    nom=\"couches_\"+names[name]\n",
        "    couches_domain.append(nom)\n",
        "list_couches_domain = [n for n in couches_domain]\n",
        "#############################################################\n",
        "for ligne in range(1,Nb_entreprise+3): \n",
        "    tupl=Donnees[ligne]\n",
        "    li=list(tupl)\n",
        "    result=li[45] \n",
        "    if result !=\"\":\n",
        "        result=result.split(\",\")\n",
        "        latitude=result[0]\n",
        "        longitude=result[1]\n",
        "        Coord = [latitude, longitude]\n",
        "\n",
        "        infos=\"<u>Entreprise :</u> <b>\"+str(li[2])+\"</b> : <br />\"+str(li[0])+\" : \"+str(li[1])+\". <br />\"+str(li[3])+\". <br />\"+str(li[40])+\", \"+str(li[41])+\" \"+str(li[42])+\"<br/> --> Tel : \"+str(li[43])+\"<br/> --> Mail : \"+str(li[51])+\"<br/> --> <a target='_blank' rel='noopener noreferrer' href='\"+str(li[44])+\"'>Lien </a>\"\n",
        "        ## icon de base\n",
        "        icon = AwesomeIcon(name='industry', marker_color='lightblue', icon_color='black', icon_size=[40, 40])\n",
        "\n",
        "        if li[0] == \"Lycée\":\n",
        "            icon = AwesomeIcon(name='fa-graduation-cap', marker_color='lightred', icon_color='black', icon_size=[40, 40])\n",
        "        if li[0] == \"Chimie\":\n",
        "            icon = AwesomeIcon(name='flask', marker_color='beige', icon_color='black' , icon_size=[40, 40])\n",
        "        if li[0] == \"Médical\":\n",
        "            icon = AwesomeIcon(name='heartbeat', marker_color='red', icon_color='black' , icon_size=[40, 40])\n",
        "        if li[0] == \"BCM\":\n",
        "            icon = AwesomeIcon(name='cut', marker_color='lightgray', icon_color='black' , icon_size=[40, 40])\n",
        "        if li[0] == \"Génétique\":\n",
        "            icon = AwesomeIcon(name='dna', marker_color='lightgray', icon_color='black' , icon_size=[40, 40])\n",
        "        if li[0] == \"Fermentations\":\n",
        "            icon = AwesomeIcon(name='hourglass-start', marker_color='lightgray', icon_color='black' , icon_size=[40, 40])\n",
        "        if li[0] == \"Microbiologie\":\n",
        "            icon = AwesomeIcon(name='link', marker_color='lightgray', icon_color='black' , icon_size=[40, 40])\n",
        "        if li[0] == \"Environnement\":\n",
        "            icon = AwesomeIcon(name='leaf', marker_color='lightgreen', icon_color='black' , icon_size=[40, 40])\n",
        "        if li[0] == \"Pharmaceutique\":\n",
        "            icon = AwesomeIcon(name='pills', marker_color='lightblue', icon_color='black' , icon_size=[40, 40])\n",
        "        if li[0] == \"Cosmétique\":\n",
        "            icon = AwesomeIcon(name='eye', marker_color='pink', icon_color='black' , icon_size=[40, 40])\n",
        "        if li[0] == \"Alimentaire\":\n",
        "            icon = AwesomeIcon(name='utensils', marker_color='orange', icon_color='black', icon_size=[40, 40])\n",
        "\n",
        "##### Suite Modif 2022 N°2 ## A placer après les icônes\n",
        "        New_List = ['*']\n",
        "        for annee in Liste_Entreprises_Annees_retenues[ligne]:\n",
        "            New_List.append(annee)\n",
        "        Liste_Entreprises_Annees_retenues[ligne] = New_List\n",
        "        for annee in Liste_Entreprises_Annees_retenues[ligne]:\n",
        "            if annee == \"*\":\n",
        "                mark = Marker(location=Coord, draggable=False, icon=icon, name=li[0]) \n",
        "            else:\n",
        "                if annee == \"\":\n",
        "                    break\n",
        "                else:\n",
        "                    new_name = li[0] + \"_\" + annee\n",
        "                    mark = Marker(location=Coord, draggable=False, icon=icon, name=new_name)\n",
        "        #########\n",
        "            \"\"\"Remplis les listes 'markers_domaine des différents points de marqueurs'\"\"\"\n",
        "            for name in range(long_names):\n",
        "                new_name = annee\n",
        "                if li[0] == names[name] or new_name == names[name]:\n",
        "                    listo = dico_noms_domaine[noms_domaine[name]]\n",
        "                    listo.append(mark) \n",
        "                ##########################################\n",
        "            message2 = HTML()\n",
        "            message2.value = infos\n",
        "            popup = Popup(\n",
        "                location=Coord,\n",
        "                close_button=False,\n",
        "                auto_close=False,\n",
        "                close_on_escape_key=False\n",
        "            ) \n",
        "            mark.popup = message2\n",
        "    #####################################################\"\"\n",
        "\"\"\"Remplis les listes 'markers_domaine des différents points de marqueurs'\"\"\"\n",
        "for nume in range(long_names):\n",
        "    name = (long_names-1)-nume\n",
        "    listo = dico_noms_domaine[noms_domaine[name]]\n",
        "    list_couches_domain[name] = LayerGroup(name =str(names[name]), layers=listo)\n",
        "    m.add_layer(list_couches_domain[name])\n",
        "m.add_control(ScaleControl(position='bottomleft'))\n",
        "control = LayersControl(position='topleft')\n",
        "m.add_control(control)\n",
        "sel_html\n",
        "display(out_infos)\n",
        "display(Box_im_titre)\n",
        "display(Menus)\n",
        "m\n",
        "###### Fin Modif 2022 N°2 ## A placer après les icônes"
      ]
    }
  ],
  "metadata": {
    "kernelspec": {
      "display_name": "Python (Pyodide)",
      "language": "python",
      "name": "python"
    },
    "language_info": {
      "codemirror_mode": {
        "name": "python",
        "version": 3
      },
      "file_extension": ".py",
      "mimetype": "text/x-python",
      "name": "python",
      "nbconvert_exporter": "python",
      "pygments_lexer": "ipython3",
      "version": "3.8"
    }
  },
  "nbformat": 4,
  "nbformat_minor": 4
}
