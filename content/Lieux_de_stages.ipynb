{
  "metadata": {
    "kernelspec": {
      "name": "python",
      "display_name": "Python (Pyodide)",
      "language": "python"
    },
    "language_info": {
      "codemirror_mode": {
        "name": "python",
        "version": 3
      },
      "file_extension": ".py",
      "mimetype": "text/x-python",
      "name": "python",
      "nbconvert_exporter": "python",
      "pygments_lexer": "ipython3",
      "version": "3.8"
    }
  },
  "nbformat_minor": 4,
  "nbformat": 4,
  "cells": [
    {
      "cell_type": "code",
      "source": "import piplite\nawait piplite.install([\"ipywidgets\"])\nawait piplite.install([\"ipyleaflet\"])",
      "metadata": {
        "trusted": true
      },
      "execution_count": 1,
      "outputs": []
    },
    {
      "cell_type": "code",
      "source": "from ipywidgets import *\nfrom IPython.display import IFrame, YouTubeVideo\nfrom IPython.display import display\nimport subprocess, sys\nimport webbrowser\nfrom ipywidgets import HTML\nimport base64\nimport csv ## https://docs.python.org/fr/3.6/library/csv.html \nimport os ## Pour utiliser la methode ci-dessous Get Current Worked Directory pour lire la page Web crée dans le dossier courant.\nLieu = os.getcwd()  ## methode Get Current Worked Directory pour lire la page Web crée dans le dossier courant.\n###\nimport os\nimport subprocess, sys\nfrom time import gmtime, strftime\nfrom datetime import datetime\nfrom pytz import timezone\n#################################################\ndef Recup_Donnees(titre_csv):\n    \"\"\" Cette fonction initiale et essentielle permet de construire\n        une liste de tuples contenant toutes les informations du \n        tableau par lignes. \"\"\"\n    Donnees=[]  ## liste de tuples pour récupérer toutes les données du fichier csv\n    Ligne_Donnees=[]  ## sous liste pour créer la liste des tuples de Donnees\n    with open(titre_csv, \"r\", encoding=\"utf-8\") as texte:  ## Ouverture du csv en mode utf 8 pour encodage des caractères français\n        Les_lignes = csv.reader(texte, delimiter=';') ## lecture de chaque ligne du fichier csv\n        for ligne in Les_lignes:  ## bouclage sur chaque ligne des lignes\n            for element in ligne:  ## Récupération de chaque élément de chaque ligne\n                Ligne_Donnees.append(element)  ## création d'1 tuple avec tous les éléments d'1 même ligne\n            Ligne_Donnees=tuple(Ligne_Donnees)  ## assurance qu'il s'agit bien d'un tuple ..?\n            Donnees.append(Ligne_Donnees)  ## Ajout du tuple créé à la liste de tuple Données\n            Ligne_Donnees=[]  ## Réinitialisation d'1 futur 'tuple' vide pour boucler sur la ligne suivant du tableau\n    longueur_Donnees=len(Donnees)  ## Détermination de la longueurs des Données\n    return Donnees,longueur_Donnees\nDonnees,longueur_Donnees=Recup_Donnees(\"Entreprises_Complet2.csv\")\nNb_entreprise=1\nfor ligne in range(0,longueur_Donnees):\n    tupl=Donnees[ligne]\n    li=list(tupl)\n    result_Nom_entreprise=li[45] ##yes\n    if result_Nom_entreprise != \"\":\n        Nb_entreprise += 1",
      "metadata": {
        "trusted": true
      },
      "execution_count": 2,
      "outputs": []
    },
    {
      "cell_type": "code",
      "source": "sel = []\nsel_html = HTML()\nsel_html.value = \"\"\ndef select_entreprises_fonc(change):\n    global selection\n    sel=change['new']\n    sel=list(sel)\n    selection = sel\n     ###############\n    new_val = \"\"\n    for az in range(0,len(sel)):\n        new_val = new_val+ \"<br>\" + str(sel[az])\n    sel_html.value = new_val\n    ##############\n    print(\"sel_html =\",sel_html)\n    return selection, sel , sel_html",
      "metadata": {
        "trusted": true
      },
      "execution_count": 3,
      "outputs": []
    },
    {
      "cell_type": "code",
      "source": "def stop_video(_):\n    out.layout.display = \"none\"\n    Mode_w.value=\"---\"\nbtn_exit_video = Button(description=\"Enlever la vidéo\",tooltip=\"Cliquer pour enlever la vidéo\",button_style='primary')\nbtn_exit_video.on_click(stop_video)\n############\nvid=YouTubeVideo( '357IqgMQ04c')#'eWzY2nGfkXk')\nout = widgets.Output(layout={'border': '1px solid black'})\ndisplay(out)\nwith out:\n    display(vid)\n    display(btn_exit_video)\nout.layout.display = \"none\"  #.layout.visibility = 'hidden'\n#####\nfrom IPython.display import IFrame",
      "metadata": {
        "trusted": true
      },
      "execution_count": 4,
      "outputs": [
        {
          "output_type": "display_data",
          "data": {
            "text/plain": "Output(layout=Layout(border_bottom='1px solid black', border_left='1px solid black', border_right='1px solid b…",
            "application/vnd.jupyter.widget-view+json": {
              "version_major": 2,
              "version_minor": 0,
              "model_id": "4b24ae90ffbb443ca27b7a43a02dd762"
            }
          },
          "metadata": {}
        }
      ]
    },
    {
      "cell_type": "code",
      "source": "def stop_infos(_):\n    out_infos.layout.display = \"none\"\n    Mode_w.value=\"---\"\nbtn_exit_infos = Button(description=\"Enlever les informations récoltées\",tooltip=\"Cliquer pour enlever les informations récoltées\",button_style='primary')\nbtn_exit_infos.on_click(stop_infos)\n############\nout_infos = widgets.Output(layout={'border': '1px solid black'})\n# display(out_infos)\nwith out_infos:\n    display(sel_html)\n    display(btn_exit_infos)\nout_infos.layout.display = \"none\"  #.layout.visibility = 'hidden'\nfrom IPython.display import IFrame",
      "metadata": {
        "trusted": true
      },
      "execution_count": 5,
      "outputs": []
    },
    {
      "cell_type": "code",
      "source": "from ipyleaflet import (\n    Map,\n    Marker, MarkerCluster,LayersControl,\n    TileLayer, ImageOverlay,\n    Polyline, Polygon, Rectangle, Circle, CircleMarker,\n    Popup,\n    GeoJSON,\n    DrawControl,\n    basemaps, FullScreenControl,\n    SearchControl, AwesomeIcon, Icon, ScaleControl\n)\nfrom ipywidgets import HTML",
      "metadata": {
        "trusted": true
      },
      "execution_count": 6,
      "outputs": []
    },
    {
      "cell_type": "code",
      "source": "List_Nom_Entrprise = []\nfor ligne in range(1,Nb_entreprise+3):\n    tupl=Donnees[ligne]\n    li=list(tupl)\n    result_Nom=li[2]\n    List_Nom_Entrprise.append(result_Nom)\nList_Nom_Entrprise.sort()\n\nselect_entreprises = widgets.SelectMultiple(\n    options=List_Nom_Entrprise ,\n    #value=['Oranges'],\n    rows=5,\n\n    disabled=False,\n    layout={'width': 'max-content'}\n)\nselect_entreprises.observe(select_entreprises_fonc,names='value')\n# display(select_entreprises)\n#     description='Entreprises',",
      "metadata": {
        "trusted": true
      },
      "execution_count": 7,
      "outputs": []
    },
    {
      "cell_type": "code",
      "source": "Selecti = VBox([widgets.Label(value='1) Choisissez, ci-dessous, vos entreprises (Ctrl pour plusieurs).'),select_entreprises])",
      "metadata": {
        "trusted": true
      },
      "execution_count": 8,
      "outputs": []
    },
    {
      "cell_type": "code",
      "source": "def Create_pdf(_):\n    global selection\n    print(\"apres btn pdf, selection =\",selection)\n    infos = []\n    Long_selection = len(selection)\n    for select in range (Long_selection):\n        for ligne in range(1,Nb_entreprise+3): # 19):\n            tupl=Donnees[ligne]\n            li=list(tupl)\n            result=li[2] \n            if selection[select] == result:               \n                infos.append(str(li[2])) \n                infos.append(str(li[0]))\n                infos.append(str(li[1]))\n                infos.append(str(li[40])) \n                infos.append(str(li[41])) \n                infos.append(str(li[42])) \n                infos.append(\"--> Tel : \"+str(li[43])) \n                infos.append(\"--> Mail : \"+str(li[51])) \n                infos.append(\"--> Lien : \"+str(li[44])) \n                infos.append(\"**\")\n    Story = \"\"\n    ###\n    fmt = \"%Y-%m-%d %H:%M\" \n    now_utc = datetime.now(timezone('UTC'))\n    formatted_time = now_utc.astimezone(timezone('Europe/Berlin'))    \n    ###\n    new_formatted_time=\"\"\n    long_string=len(str(formatted_time))\n    b=str(formatted_time)\n    for a in range(16):\n        new_formatted_time=new_formatted_time+b[a]    \n    ####\n    Story = Story + \"Informations sur les lieux de stages sélectionnés à la date de : \"+ new_formatted_time\n    Story = Story + \"<br>----------------------------------------------------------------------------------------------\"\n    Story = Story + \"<br>\"\n    for part in infos:\n        ptext = '%s' % part.strip()\n        if ptext == \"**\":\n            Story = Story + ptext + \"<br><br>\"\n        else:\n            Story= Story + ptext + \"<br>\" \n    sel_html.value = Story",
      "metadata": {
        "trusted": true
      },
      "execution_count": 9,
      "outputs": []
    },
    {
      "cell_type": "code",
      "source": "#######################################\nbtn_pdf = Button(icon=\"file\",button_style='danger') # cogs  # angle-left # file-pdf-o # spinner\nbtn_pdf.layout.width=\"30px\"\nbtn_pdf.on_click( Create_pdf)\n# display(btn_pdf)\n#################",
      "metadata": {
        "trusted": true
      },
      "execution_count": 10,
      "outputs": []
    },
    {
      "cell_type": "code",
      "source": "def Vid_fonc(_):\n    out.layout.display = \"block\"\n#####################\nVid_w = widgets.ToggleButton(\n    value=False,\n    description=' Démo',\n    disabled=False,\n    button_style='info', # 'success', 'info', 'warning', 'danger' or ''\n    tooltip=\"Cliquer pour voir la vidéo\",\n    icon='video' # (FontAwesome names without the `fa-` prefix)\n)\nVid_w.observe(Vid_fonc,names='value')\n#####################\n# out.layout.display = \"block\"",
      "metadata": {
        "trusted": true
      },
      "execution_count": 11,
      "outputs": []
    },
    {
      "cell_type": "code",
      "source": "def infos_fonc(_):\n    out_infos.layout.display = \"block\"\n#####################\nyep = Button(icon=\"eye\",button_style='danger',tooltip=\"Cliquer pour voir les infos\") # cogs  # angle-left # file-pdf-o # spinner\nyep.layout.width=\"30px\"\nyep.on_click(infos_fonc)",
      "metadata": {
        "trusted": true
      },
      "execution_count": 12,
      "outputs": []
    },
    {
      "cell_type": "code",
      "source": "for a in range(1,Nb_entreprise+2): # 19):\n    tuplee=Donnees[a]\n    lib=list(tuplee)\n    if lib[0]==\"Lycée\":\n        ligne=a\ntupl=Donnees[ligne]\nli=list(tupl)\nNom_lycee=li[2]\n#################################\nNb=\"L'établissement '\"+str(Nom_lycee)+\"' propose \"+str(Nb_entreprise-2)+\" adresses de lieux de stages :\"\nNb2 = widgets.HTML(value= '<style>p{word-wrap: break-word}</style> <p><i>'+ Nb +' </i></p>')\nNb3=VBox([Nb2,Vid_w])\n# Vid_w\nNb3.layout.max_width='200px'\nNb3.layout.border = '1px solid black'",
      "metadata": {
        "trusted": true
      },
      "execution_count": 13,
      "outputs": []
    },
    {
      "cell_type": "code",
      "source": "#################################\nTex2=\"Créez votre sélection d'informations des lieux de stages :\"\nTexto2 = widgets.HTML(value= '<style>p{word-wrap: break-word}</style> <p><u><b>'+ Tex2 +' </b></u></p>')\n\nTex3=\"2) Créer visuel --> \"\nTexto3 = widgets.HTML(value= '<style>p{word-wrap: break-word}</style> <p>'+ Tex3 +' </p>')\nBtn_CrPDF = HBox([Texto3,btn_pdf])\n\nTex4=\"3) Présenter visuel --> \"\nTexto4 = widgets.HTML(value= '<style>p{word-wrap: break-word}</style> <p>'+ Tex4 +' </p>')\nBtn_OuvrPDF = HBox([Texto4,yep])\n\nBtn = VBox([Btn_CrPDF,Btn_OuvrPDF])\nBoite = HBox([Selecti, Btn])\n\nTexte_w = VBox([Texto2,Boite]) # Texto1a,Texto1b,Texto1c, \n\nTexte_w.layout.max_width='640px'\nTexte_w.layout.border = '1px solid black'\n#################################",
      "metadata": {
        "trusted": true
      },
      "execution_count": 14,
      "outputs": []
    },
    {
      "cell_type": "code",
      "source": "file = open(\"Lib2.png\", \"rb\")\nimage = file.read()\nim_lycee = widgets.Image(\n    value=image,\n    format='png',\n    width=200,\n    height=200,\n)",
      "metadata": {
        "trusted": true
      },
      "execution_count": 15,
      "outputs": []
    },
    {
      "cell_type": "code",
      "source": "file = open(\"titre2.png\", \"rb\")\nimage = file.read()\nim_titre = widgets.Image(\n    value=image,\n    format='png',\n    width=400,\n    height=50,\n)\nim_titre\nBox_im_titre=Box([im_titre])\nBox_im_titre.layout.border = '1px solid black'\n# Box_im_titre",
      "metadata": {
        "trusted": true
      },
      "execution_count": 16,
      "outputs": []
    },
    {
      "cell_type": "code",
      "source": "Menus = HBox([im_lycee,Nb3,Texte_w], layout=Layout(max_width='100%',display='inline-flex',flex_flow='row wrap'))\n# display(Menus)",
      "metadata": {
        "trusted": true
      },
      "execution_count": 17,
      "outputs": []
    },
    {
      "cell_type": "code",
      "source": "from ipyleaflet import (\n    Map, basemaps, basemap_to_tiles,\n    Circle, Marker, Rectangle, LayerGroup, LayersControl,\n    AwesomeIcon, Popup, ScaleControl, FullScreenControl,\n    SearchControl\n)\nfrom ipywidgets import HTML\n###################################\nnames = []\n##################################\n######## Récup des coordonnées du lycée du fichier excel sinon Libergier ######\nfaire = 1\nfor ligne in range(1,Nb_entreprise+3):\n    tupl=Donnees[ligne]\n    li=list(tupl)\n    resulto=li[0] ##yes\n    if resulto ==\"Lycée\":\n        result=li[45]\n        if result !=\"\":\n            result=result.split(\",\")\n            latitude=result[0]\n            longitude=result[1]\n            cent = [latitude, longitude]\n\n            faire = 0\nif faire==1:\n    print(\"Manque les coordonnées à votre lycée.\")\n    cent = [49.25112, 4.0271] #drop.value#\n###############################################\nzoom = 20\nm = Map(center=cent, zoom=zoom)\nm.add_control(FullScreenControl())\nmarker = Marker(icon=AwesomeIcon(name=\"check\", marker_color='green', icon_color='darkgreen'))\n\nm.add_control(SearchControl(\n  position=\"topleft\",\n  url='https://nominatim.openstreetmap.org/search?format=json&q={s}',\n  zoom=15,\n  marker=marker\n))\n\nm.interact(zoom=(5,20,1))\n###############################################################\n\"\"\" Création de la liste (names) des différents domaines d'entreprise\"\"\"\nfor ligne in range(1,Nb_entreprise+3):\n    faire = 1\n    tupl=Donnees[ligne]\n    li=list(tupl)\n    result=li[45] ##yes\n    if result !=\"\":\n        long_names=len(names)\n        for i in range(long_names):\n            if names[i]==li[0]:\n                faire=0\n        if faire==1:\n            names.append(li[0])\n###########################################################\n## Début Modif 2022 N°1 ##\nListe_Entreprises_Annees_retenues = [  [\"\",\"\",\"\",\"\",\"\",\"\" ] for i in range(Nb_entreprise+3)  ] ## limitte années\n\"\"\" Ajout à la liste (names) des 5 dernières années Colonne D du tableau \"\"\"\nnow_utc = datetime.now(timezone('UTC'))\nformatted_time = now_utc.astimezone(timezone('Europe/Berlin'))    \nAnnee_en_cours=\"\"\nlong_string=len(str(formatted_time))\nb=str(formatted_time)\nfor a in range(4):\n    Annee_en_cours=Annee_en_cours+b[a]\nfor ligne in range(1,Nb_entreprise+3):\n    faire = 1\n    tupl=Donnees[ligne]\n    li=list(tupl)\n    result=li[3] ## colonne des années\n    ## Début module repere Annees ##\n    Nb_digit_annee = 0\n    Annee_retenue = \"\"\n    Liste_Annees_retenues = []\n    Chiffre_ok = False\n    List_Numeros = ['0','1','2','3','4','5','6','7','8','9']\n    Longueur_Chain = len(result)\n    for position in range(Longueur_Chain):\n        Chiffre_ok = False\n        Caractere = result[position]\n        for j in range(len(List_Numeros)):\n            Numero_dans_List_Numeros = List_Numeros[j]\n            if Caractere == Numero_dans_List_Numeros:\n                Chiffre_ok = True\n                Nb_digit_annee = Nb_digit_annee +1\n                if Nb_digit_annee == 4:\n                    Nb_digit_annee = 0\n                    Annee_retenue = Annee_retenue + Caractere\n                    if Annee_retenue in Liste_Annees_retenues:\n                        rien = 1\n                    else:\n                        Liste_Annees_retenues.append(Annee_retenue)\n                    Annee_retenue = \"\"\n                    Chiffre_ok = False\n                else:\n                    Annee_retenue = Annee_retenue + Caractere\n        if Chiffre_ok == False:\n            Nb_digit_annee = 0\n            Annee_retenue = \"\"\n    if Liste_Annees_retenues == []:\n        Liste_Annees_retenues = [\"\"]\n        Liste_Annees_retenues.append(Annee_retenue)\n    Liste_Annees_retenues = Liste_Annees_retenues[:6] ## limitte années\n    for Index_annee in range(len(Liste_Annees_retenues)):\n        annee = Liste_Annees_retenues[Index_annee]\n        if annee != \"\":\n            if int(annee) > int(Annee_en_cours) or int(annee) < (int(Annee_en_cours)-4): ## limitte controle\n                rien = 1\n                Liste_Entreprises_Annees_retenues[ligne][Index_annee]='0'\n            else:\n                Liste_Entreprises_Annees_retenues[ligne][Index_annee] = Liste_Annees_retenues[0+Index_annee]  \n                if result !=\"\":\n                    long_names=len(names)\n                    for i in range(long_names):\n                        if names[i]==Liste_Annees_retenues[Index_annee]:\n                            faire=0\n                    if faire==1:\n                        names.append(Liste_Annees_retenues[Index_annee])\n## Fin Modif 2022 N°1 ##\n\"\"\"Création des noms de liste de domaine nommées markers_domain\"\"\"\nnoms_domaine = []\nlong_names=len(names)\nfor name in range(long_names):\n    nom=\"markers_\"+names[name]\n    noms_domaine.append(nom)\ndico_noms_domaine = {n: [] for n in noms_domaine}\n#############################################################\n\"\"\"Création des noms de liste de couches nommées couches_domain\"\"\"\ncouches_domain = []\nlong_names=len(names)\nfor name in range(long_names):\n    nom=\"couches_\"+names[name]\n    couches_domain.append(nom)\nlist_couches_domain = [n for n in couches_domain]\n#############################################################\nfor ligne in range(1,Nb_entreprise+3): \n    tupl=Donnees[ligne]\n    li=list(tupl)\n    result=li[45] \n    if result !=\"\":\n        result=result.split(\",\")\n        latitude=result[0]\n        longitude=result[1]\n        Coord = [latitude, longitude]\n\n        infos=\"<u>Entreprise :</u> <b>\"+str(li[2])+\"</b> : <br />\"+str(li[0])+\" : \"+str(li[1])+\". <br />\"+str(li[3])+\". <br />\"+str(li[40])+\", \"+str(li[41])+\" \"+str(li[42])+\"<br/> --> Tel : \"+str(li[43])+\"<br/> --> Mail : \"+str(li[51])+\"<br/> --> <a target='_blank' rel='noopener noreferrer' href='\"+str(li[44])+\"'>Lien </a>\"\n        ## icon de base\n        icon = AwesomeIcon(name='industry', marker_color='lightblue', icon_color='black', icon_size=[40, 40])\n\n        if li[0] == \"Lycée\":\n            icon = AwesomeIcon(name='fa-graduation-cap', marker_color='lightred', icon_color='black', icon_size=[40, 40])\n        if li[0] == \"Chimie\":\n            icon = AwesomeIcon(name='flask', marker_color='beige', icon_color='black' , icon_size=[40, 40])\n        if li[0] == \"Médical\":\n            icon = AwesomeIcon(name='heartbeat', marker_color='red', icon_color='black' , icon_size=[40, 40])\n        if li[0] == \"BCM\":\n            icon = AwesomeIcon(name='cut', marker_color='lightgray', icon_color='black' , icon_size=[40, 40])\n        if li[0] == \"Génétique\":\n            icon = AwesomeIcon(name='dna', marker_color='lightgray', icon_color='black' , icon_size=[40, 40])\n        if li[0] == \"Fermentations\":\n            icon = AwesomeIcon(name='hourglass-start', marker_color='lightgray', icon_color='black' , icon_size=[40, 40])\n        if li[0] == \"Microbiologie\":\n            icon = AwesomeIcon(name='link', marker_color='lightgray', icon_color='black' , icon_size=[40, 40])\n        if li[0] == \"Environnement\":\n            icon = AwesomeIcon(name='leaf', marker_color='lightgreen', icon_color='black' , icon_size=[40, 40])\n        if li[0] == \"Pharmaceutique\":\n            icon = AwesomeIcon(name='pills', marker_color='lightblue', icon_color='black' , icon_size=[40, 40])\n        if li[0] == \"Cosmétique\":\n            icon = AwesomeIcon(name='eye', marker_color='pink', icon_color='black' , icon_size=[40, 40])\n        if li[0] == \"Alimentaire\":\n            icon = AwesomeIcon(name='utensils', marker_color='orange', icon_color='black', icon_size=[40, 40])\n\n##### Suite Modif 2022 N°2 ## A placer après les icônes\n        New_List = ['*']\n        for annee in Liste_Entreprises_Annees_retenues[ligne]:\n            New_List.append(annee)\n        Liste_Entreprises_Annees_retenues[ligne] = New_List\n        for annee in Liste_Entreprises_Annees_retenues[ligne]:\n            if annee == \"*\":\n                mark = Marker(location=Coord, draggable=False, icon=icon, name=li[0]) \n            else:\n                if annee == \"\":\n                    break\n                else:\n                    new_name = li[0] + \"_\" + annee\n                    mark = Marker(location=Coord, draggable=False, icon=icon, name=new_name)\n        #########\n            \"\"\"Remplis les listes 'markers_domaine des différents points de marqueurs'\"\"\"\n            for name in range(long_names):\n                new_name = annee\n                if li[0] == names[name] or new_name == names[name]:\n                    listo = dico_noms_domaine[noms_domaine[name]]\n                    listo.append(mark) \n                ##########################################\n            message2 = HTML()\n            message2.value = infos\n            popup = Popup(\n                location=Coord,\n                close_button=False,\n                auto_close=False,\n                close_on_escape_key=False\n            ) \n            mark.popup = message2\n    #####################################################\"\"\n\"\"\"Remplis les listes 'markers_domaine des différents points de marqueurs'\"\"\"\nfor nume in range(long_names):\n    name = (long_names-1)-nume\n    listo = dico_noms_domaine[noms_domaine[name]]\n    list_couches_domain[name] = LayerGroup(name =str(names[name]), layers=listo)\n    m.add_layer(list_couches_domain[name])\nm.add_control(ScaleControl(position='bottomleft'))\ncontrol = LayersControl(position='topleft')\nm.add_control(control)\nsel_html\ndisplay(out_infos)\ndisplay(Box_im_titre)\ndisplay(Menus)\nm\n###### Fin Modif 2022 N°2 ## A placer après les icônes",
      "metadata": {
        "editable": false,
        "tags": [],
        "trusted": true
      },
      "execution_count": 18,
      "outputs": [
        {
          "output_type": "display_data",
          "data": {
            "text/plain": "Output(layout=Layout(border_bottom='1px solid black', border_left='1px solid black', border_right='1px solid b…",
            "application/vnd.jupyter.widget-view+json": {
              "version_major": 2,
              "version_minor": 0,
              "model_id": "7f86733316204c9d8fe5a2fa6c39cde4"
            }
          },
          "metadata": {}
        },
        {
          "output_type": "display_data",
          "data": {
            "text/plain": "Box(children=(Image(value=b'\\x89PNG\\r\\n\\x1a\\n\\x00\\x00\\x00\\rIHDR\\x00\\x00\\x02`\\x00\\x00\\x00\\x95\\x08\\x02\\x00\\x00\\x…",
            "application/vnd.jupyter.widget-view+json": {
              "version_major": 2,
              "version_minor": 0,
              "model_id": "1669495c810c4e98b10141e9f9be0647"
            }
          },
          "metadata": {}
        },
        {
          "output_type": "display_data",
          "data": {
            "text/plain": "HBox(children=(Image(value=b'\\x89PNG\\r\\n\\x1a\\n\\x00\\x00\\x00\\rIHDR\\x00\\x00\\x02\\x84\\x00\\x00\\x01\\xb8\\x08\\x02\\x00\\x…",
            "application/vnd.jupyter.widget-view+json": {
              "version_major": 2,
              "version_minor": 0,
              "model_id": "98f641ac5f9b4e02b14dc11961d33d1b"
            }
          },
          "metadata": {}
        },
        {
          "execution_count": 18,
          "output_type": "execute_result",
          "data": {
            "text/plain": "Map(center=['49.25138133197745', ' 4.027558236365021'], controls=(ZoomControl(options=['position', 'zoom_in_te…",
            "application/vnd.jupyter.widget-view+json": {
              "version_major": 2,
              "version_minor": 0,
              "model_id": "531c6b13ddc14dc5867a8281dbe1889c"
            }
          },
          "metadata": {}
        }
      ]
    }
  ]
}